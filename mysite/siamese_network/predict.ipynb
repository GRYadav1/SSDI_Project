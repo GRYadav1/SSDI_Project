{
 "cells": [
  {
   "cell_type": "code",
   "execution_count": 63,
   "metadata": {},
   "outputs": [],
   "source": [
    "import numpy as np\n",
    "import pandas as pd\n",
    "import cv2\n",
    "import matplotlib.pyplot as plt\n",
    "import pickle\n",
    "\n",
    "import tensorflow as tf\n",
    "from tensorflow import keras\n",
    "from keras.layers import Input, Conv2D, MaxPooling2D, UpSampling2D, Lambda, merge, Dense, Flatten\n",
    "from keras.regularizers import l2\n",
    "from keras import backend as K\n",
    "from keras.models import Model, Sequential, model_from_json, load_model\n",
    "from keras.datasets import mnist\n",
    "from keras.callbacks import TensorBoard\n",
    "from keras import backend as K\n",
    "\n"
   ]
  },
  {
   "cell_type": "code",
   "execution_count": 64,
   "metadata": {},
   "outputs": [],
   "source": [
    "#encode images \n",
    "\n",
    "input_img = Input(shape=(28, 28, 1))  # adapt this if using `channels_first` image data format\n",
    "\n",
    "x = Conv2D(64, (3, 3), activation='relu', padding='same')(input_img)\n",
    "x = MaxPooling2D((2, 2), padding='same')(x)\n",
    "x = Conv2D(64, (3, 3), activation='relu', padding='same')(x)\n",
    "x = MaxPooling2D((2, 2), padding='same')(x)\n",
    "x = Conv2D(32, (3, 3), activation='relu', padding='same')(x)\n",
    "x = MaxPooling2D((2, 2), padding='same')(x)\n",
    "x = Conv2D(16, (3, 3), activation='relu', padding='same')(x)\n",
    "x = MaxPooling2D((2, 2), padding='same')(x)\n",
    "#x = Flatten()(x)\n",
    "encoded = Dense(128, activation='relu')(x)\n",
    "# at this point the representation is (4, 4, 8) i.e. 128-dimensional\n",
    "\n",
    "x = Conv2D(16, (3, 3), activation='relu', padding='same')(encoded)\n",
    "x = UpSampling2D((2, 2))(x)\n",
    "x = Conv2D(32, (3, 3), activation='relu', padding='same')(x)\n",
    "x = UpSampling2D((2, 2))(x)\n",
    "x = Conv2D(64, (3, 3), activation='relu', padding='same')(x)\n",
    "x = UpSampling2D((2, 2))(x)\n",
    "x = Conv2D(64, (3, 3), activation='relu')(x)\n",
    "x = UpSampling2D((2, 2))(x)\n",
    "decoded = Conv2D(1, (3, 3), activation='sigmoid', padding='same')(x)\n",
    "\n",
    "autoencoder = Model(input_img, decoded)\n",
    "autoencoder.compile(optimizer='adadelta', loss='binary_crossentropy')\n",
    "\n",
    "encoder = Model(input_img, encoded)"
   ]
  },
  {
   "cell_type": "code",
   "execution_count": 65,
   "metadata": {},
   "outputs": [],
   "source": [
    "def process_image(img_name):\n",
    "    img_list = list()\n",
    "    \n",
    "    im = cv2.imread(img_name)\n",
    "    im = cv2.resize(im, (28,28))\n",
    "    im = cv2.cvtColor(im,cv2.COLOR_BGR2GRAY)\n",
    "    \n",
    "    img_list.append(im)\n",
    "    img_list = np.asarray(img_list)\n",
    "    img_list = np.reshape(img_list, (1, 28, 28, 1))\n",
    "    return img_list"
   ]
  },
  {
   "cell_type": "code",
   "execution_count": 66,
   "metadata": {},
   "outputs": [],
   "source": [
    "\n",
    "\n",
    "def prepare_data(X):\n",
    "    prepared_data = []\n",
    "\n",
    "    for i in range(X.shape[0]):\n",
    "    #for i in range(1):\n",
    "    \n",
    "        input_im1 = process_image(X[i,0])\n",
    "        input_im2 = process_image(X[i,1])\n",
    "        \n",
    "        encoded_img1 = encoder.predict(input_im1)\n",
    "        encoded_img2 = encoder.predict(input_im2)\n",
    "\n",
    "        \n",
    "        encoded_img1 = encoded_img1.flatten()\n",
    "        \n",
    "        encoded_img2 = encoded_img2.flatten()\n",
    "        \n",
    "        mean1 = np.mean(encoded_img1 - encoded_img2)\n",
    "        mean2 = np.mean(encoded_img1 + encoded_img2)\n",
    "        euclidean_distance = np.sum((encoded_img1-encoded_img2)**2)\n",
    "        im_sum = np.sum((encoded_img1-encoded_img2))\n",
    "\n",
    "        data = [mean1,mean2,euclidean_distance,im_sum]\n",
    "        result_im = list(((encoded_img1-encoded_img2)**2))\n",
    "        result_im = result_im + data\n",
    "        prepared_data.append(result_im)\n",
    "        #prepared_data.append(data)\n",
    "        \n",
    "        \n",
    "    \n",
    "    \n",
    "    return prepared_data\n",
    "\n"
   ]
  },
  {
   "cell_type": "code",
   "execution_count": 67,
   "metadata": {},
   "outputs": [
    {
     "name": "stdout",
     "output_type": "stream",
     "text": [
      "WARNING:tensorflow:Sequential models without an `input_shape` passed to the first layer cannot reload their optimizer state. As a result, your model isstarting with a freshly initialized optimizer.\n"
     ]
    }
   ],
   "source": [
    "loaded_model = tf.keras.models.load_model('checkpoint/trained_model.h5')\n"
   ]
  },
  {
   "cell_type": "code",
   "execution_count": 72,
   "metadata": {},
   "outputs": [],
   "source": [
    "def predict_result(pred_data):\n",
    "    test_prepared_data = prepare_data(pred_data)\n",
    "    test_prepared_data = np.array(test_prepared_data)\n",
    "    test_prepared_data  = test_prepared_data/np.mean(test_prepared_data)\n",
    "    \n",
    "    test_predictions = loaded_model.predict(test_prepared_data)\n",
    "    \n",
    "    class_name = ['Genuine','Forged']\n",
    "    \n",
    "    result = class_name[np.argmax(test_predictions)]\n",
    "    \n",
    "    return result"
   ]
  },
  {
   "cell_type": "code",
   "execution_count": 79,
   "metadata": {},
   "outputs": [
    {
     "name": "stdout",
     "output_type": "stream",
     "text": [
      "Forged\n"
     ]
    }
   ],
   "source": [
    "im1 = 'data/train/001/001_01.PNG'\n",
    "im2 = 'data/train/001_forg/0119001_01.png'\n",
    "\n",
    "\n",
    "pred_data = np.array([[im1,im2]])\n",
    "\n",
    "res = predict_result(pred_data)\n",
    "print(res)"
   ]
  },
  {
   "cell_type": "code",
   "execution_count": null,
   "metadata": {},
   "outputs": [],
   "source": []
  }
 ],
 "metadata": {
  "kernelspec": {
   "display_name": "Python 3",
   "language": "python",
   "name": "python3"
  },
  "language_info": {
   "codemirror_mode": {
    "name": "ipython",
    "version": 3
   },
   "file_extension": ".py",
   "mimetype": "text/x-python",
   "name": "python",
   "nbconvert_exporter": "python",
   "pygments_lexer": "ipython3",
   "version": "3.6.5"
  }
 },
 "nbformat": 4,
 "nbformat_minor": 2
}
